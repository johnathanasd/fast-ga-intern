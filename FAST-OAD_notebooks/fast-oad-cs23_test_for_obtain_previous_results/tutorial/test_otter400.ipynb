{
 "cells": [
  {
   "cell_type": "code",
   "execution_count": 1,
   "id": "31091811-a6ce-4ec5-9a85-90a14b1022b3",
   "metadata": {
    "tags": []
   },
   "outputs": [],
   "source": [
    "import warnings\n",
    "\n",
    "warnings.filterwarnings(action=\"ignore\")\n",
    "import os.path as pth\n",
    "import os\n",
    "import openmdao.api as om\n",
    "from fastoad import api as api_cs25\n",
    "from fastga.command import api as api_cs23\n",
    "import logging\n",
    "from fastoad.gui import VariableViewer\n",
    "import shutil\n",
    "\n",
    "# Define relative path\n",
    "DATA_FOLDER_PATH = \"data\"\n",
    "WORK_FOLDER_PATH = \"workdir\"\n",
    "\n",
    "# Remove work folder\n",
    "shutil.rmtree(WORK_FOLDER_PATH, ignore_errors=True)\n",
    "\n",
    "# Define files\n",
    "CONFIGURATION_FILE = pth.join(DATA_FOLDER_PATH, \"oad_process_turboprop.yml\")\n",
    "SOURCE_FILE = pth.join(DATA_FOLDER_PATH, \"Source File Twin Otter DHC6-400.xml\")\n",
    "PROPELLER_FILE = pth.join(DATA_FOLDER_PATH,\"propeller_coeff_inputs.xml\")\n",
    "# For having log messages on screen\n",
    "#logging.basicConfig(level=logging.INFO, format=\"%(levelname)-8s: %(message)s\")\n",
    "\n",
    "\n",
    "# For using all screen width\n",
    "#from IPython.core.display import display, HTML\n",
    "\n",
    "#display(HTML(\"<style>.container { width:95% !important; }</style>\"))"
   ]
  },
  {
   "cell_type": "code",
   "execution_count": 2,
   "id": "7e25ba97-39ff-4bbf-99d2-9750ea800105",
   "metadata": {
    "tags": []
   },
   "outputs": [
    {
     "name": "stderr",
     "output_type": "stream",
     "text": [
      "Failed to import module fastga.models.propulsion.fuel_propulsion.basicIC_engine.unitary_tests\n",
      "Failed to import module fastga.models.aerodynamics.unitary_tests\n",
      "Failed to import module fastga.models.weight.mass_breakdown.unitary_tests\n",
      "Failed to import module fastga.models.load_analysis.unitary_tests\n",
      "Failed to import module fastga.models.handling_qualities.unitary_tests\n",
      "Failed to import module fastga.models.performances.unitary_tests\n",
      "Failed to import module fastga.models.propulsion.fuel_propulsion.basicTurbo_prop.unitary_tests\n",
      "Failed to import module fastga.models.loops.unitary_tests\n",
      "Failed to import module fastga.models.weight.cg.unitary_tests\n",
      "Failed to import module fastga.models.geometry.unitary_tests\n",
      "Failed to import module fastga.models.propulsion.fuel_propulsion.basicTurbo_prop_map.unitary_tests\n"
     ]
    },
    {
     "data": {
      "application/vnd.jupyter.widget-view+json": {
       "model_id": "c2c961413e22450abfd7a0629cd115dc",
       "version_major": 2,
       "version_minor": 0
      },
      "text/plain": [
       "VBox(children=(HBox(children=(Button(description='Load', icon='upload', style=ButtonStyle(), tooltip='Load the…"
      ]
     },
     "metadata": {},
     "output_type": "display_data"
    }
   ],
   "source": [
    "INUPT_FILE_PATH = api_cs25.generate_inputs(CONFIGURATION_FILE, SOURCE_FILE, overwrite=True)\n",
    "api_cs25.variable_viewer(INUPT_FILE_PATH)"
   ]
  },
  {
   "cell_type": "markdown",
   "id": "4d2b1e99-6276-4e2f-aa53-ca0b8bff5f48",
   "metadata": {},
   "source": [
    "MDA\n"
   ]
  },
  {
   "cell_type": "code",
   "execution_count": null,
   "id": "a5a303d1-9c08-47ae-a2e1-36f5b7dba1d7",
   "metadata": {
    "tags": []
   },
   "outputs": [
    {
     "name": "stderr",
     "output_type": "stream",
     "text": [
      "C:\\Users\\c.liu\\Anaconda3\\envs\\fast-ga-intern\\lib\\site-packages\\openmdao\\core\\group.py:2831: UnitsWarning:<model> <class FASTOADModel>: Input 'propeller.propeller_aero.data:geometry:propeller:average_rpm' with units of 'rpm' is connected to output 'fastoad_inputs.data:geometry:propeller:average_rpm' which has no units.\n",
      "Chord ratio outside of the range in Roskam's book, value clipped\n",
      "Taper ratio outside of the range in Roskam's book, value clipped\n"
     ]
    },
    {
     "name": "stdout",
     "output_type": "stream",
     "text": [
      "\n",
      "===============\n",
      "aircraft_sizing\n",
      "===============\n"
     ]
    },
    {
     "name": "stderr",
     "output_type": "stream",
     "text": [
      "Taper ratio outside of the range in Roskam's book, value clipped\n"
     ]
    },
    {
     "name": "stdout",
     "output_type": "stream",
     "text": [
      "Warning: HTP area estimated negative (in ComputeHTArea) forced to 1m²!\n"
     ]
    },
    {
     "name": "stderr",
     "output_type": "stream",
     "text": [
      "Taper ratio outside of the range in Roskam's book, value clipped\n"
     ]
    },
    {
     "name": "stdout",
     "output_type": "stream",
     "text": [
      "NL: NLBGS 1 ; 180229501 1\n"
     ]
    },
    {
     "name": "stderr",
     "output_type": "stream",
     "text": [
      "Taper ratio outside of the range in Roskam's book, value clipped\n"
     ]
    },
    {
     "name": "stdout",
     "output_type": "stream",
     "text": [
      "NL: NLBGS 2 ; 2213579.21 0.0122820026\n"
     ]
    },
    {
     "name": "stderr",
     "output_type": "stream",
     "text": [
      "Taper ratio outside of the range in Roskam's book, value clipped\n",
      "Taper ratio outside of the range in Roskam's book, value clipped\n"
     ]
    },
    {
     "name": "stdout",
     "output_type": "stream",
     "text": [
      "NL: NLBGS 3 ; 3789529.7 0.0210261343\n"
     ]
    },
    {
     "name": "stderr",
     "output_type": "stream",
     "text": [
      "Taper ratio outside of the range in Roskam's book, value clipped\n",
      "Taper ratio outside of the range in Roskam's book, value clipped\n"
     ]
    },
    {
     "name": "stdout",
     "output_type": "stream",
     "text": [
      "NL: NLBGS 4 ; 4734009.36 0.026266562\n"
     ]
    },
    {
     "name": "stderr",
     "output_type": "stream",
     "text": [
      "Taper ratio outside of the range in Roskam's book, value clipped\n",
      "Taper ratio outside of the range in Roskam's book, value clipped\n"
     ]
    },
    {
     "name": "stdout",
     "output_type": "stream",
     "text": [
      "NL: NLBGS 5 ; 1054057.2 0.00584841658\n"
     ]
    },
    {
     "name": "stderr",
     "output_type": "stream",
     "text": [
      "Taper ratio outside of the range in Roskam's book, value clipped\n",
      "Taper ratio outside of the range in Roskam's book, value clipped\n",
      "Taper ratio outside of the range in Roskam's book, value clipped\n"
     ]
    },
    {
     "name": "stdout",
     "output_type": "stream",
     "text": [
      "NL: NLBGS 6 ; 355296.156 0.00197135404\n"
     ]
    },
    {
     "name": "stderr",
     "output_type": "stream",
     "text": [
      "Taper ratio outside of the range in Roskam's book, value clipped\n"
     ]
    }
   ],
   "source": [
    "eval_problem = api_cs25.evaluate_problem(CONFIGURATION_FILE, overwrite=True)"
   ]
  },
  {
   "cell_type": "code",
   "execution_count": null,
   "id": "54e16625-ee65-44de-b22c-c9a1508d78de",
   "metadata": {
    "tags": []
   },
   "outputs": [],
   "source": [
    "print(eval_problem)"
   ]
  },
  {
   "cell_type": "code",
   "execution_count": null,
   "id": "f4c0820c-f0d7-4acd-9564-e821b76fc45c",
   "metadata": {
    "tags": []
   },
   "outputs": [],
   "source": [
    "RESULT_FOLDER_PATH = \"results\"\n",
    "OUTPUT_FILE = pth.join(RESULT_FOLDER_PATH, \"oad_process_outputs.xml\")\n",
    "CeRAS_OPT_OUTPUT_FILE = pth.join(RESULT_FOLDER_PATH, \"problem_outputs_ottor400_mdo.xml\")\n",
    "shutil.copy(OUTPUT_FILE, CeRAS_OPT_OUTPUT_FILE)"
   ]
  },
  {
   "cell_type": "code",
   "execution_count": null,
   "id": "ab6cdfa7-3fb6-4517-a50f-eda704595877",
   "metadata": {
    "tags": []
   },
   "outputs": [],
   "source": [
    "import os.path as pth\n",
    "\n",
    "import fastoad.api as oad\n",
    "import fastga.utils.postprocessing.post_processing_api as api_plots\n",
    "\n",
    "# For using all screen width\n",
    "from IPython.core.display import display, HTML\n",
    "\n",
    "display(HTML(\"<style>.container { width:95% !important; }</style>\"))"
   ]
  },
  {
   "cell_type": "code",
   "execution_count": null,
   "id": "4ab2b413-80ad-4856-99de-b5d680e9325a",
   "metadata": {
    "tags": []
   },
   "outputs": [],
   "source": [
    "ottor400_MDA_OUTPUT_FILE = pth.join(\n",
    "    RESULT_FOLDER_PATH, \"problem_outputs_ottor400_mdo.xml\"\n",
    ")"
   ]
  },
  {
   "cell_type": "code",
   "execution_count": null,
   "id": "b0bbe1d4-fe86-4605-9d46-9b02d16573a6",
   "metadata": {
    "tags": []
   },
   "outputs": [],
   "source": [
    "fig = oad.wing_geometry_plot(ottor400_MDA_OUTPUT_FILE, name=\"Twin Otter DHC6-400 MDA\")\n",
    "fig.show()"
   ]
  },
  {
   "cell_type": "code",
   "execution_count": null,
   "id": "a701a0ef-9943-41e5-bda1-8212a11dbe57",
   "metadata": {
    "tags": []
   },
   "outputs": [],
   "source": [
    "fig = api_plots.aircraft_geometry_plot(\n",
    "    ottor400_MDA_OUTPUT_FILE, name=\"Twin Otter DHC6-400 MDA\"\n",
    ")\n",
    "fig.show()"
   ]
  },
  {
   "cell_type": "code",
   "execution_count": null,
   "id": "94dd2800-aae4-4b13-9ee2-83db8139cb82",
   "metadata": {
    "tags": []
   },
   "outputs": [],
   "source": [
    "fig = api_plots.mass_breakdown_sun_plot(ottor400_MDA_OUTPUT_FILE)\n",
    "fig.show()"
   ]
  },
  {
   "cell_type": "code",
   "execution_count": null,
   "id": "94d7333c-389a-4dd0-b613-2e51ba6e084b",
   "metadata": {
    "tags": []
   },
   "outputs": [],
   "source": [
    "api_cs25.variable_viewer(ottor400_MDA_OUTPUT_FILE)"
   ]
  }
 ],
 "metadata": {
  "kernelspec": {
   "display_name": "Python 3 (ipykernel)",
   "language": "python",
   "name": "python3"
  },
  "language_info": {
   "codemirror_mode": {
    "name": "ipython",
    "version": 3
   },
   "file_extension": ".py",
   "mimetype": "text/x-python",
   "name": "python",
   "nbconvert_exporter": "python",
   "pygments_lexer": "ipython3",
   "version": "3.8.19"
  }
 },
 "nbformat": 4,
 "nbformat_minor": 5
}
