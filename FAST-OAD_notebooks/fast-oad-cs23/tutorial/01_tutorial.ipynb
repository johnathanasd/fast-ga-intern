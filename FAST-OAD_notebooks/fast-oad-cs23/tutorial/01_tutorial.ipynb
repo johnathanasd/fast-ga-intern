{
 "cells": [
  {
   "cell_type": "markdown",
   "metadata": {},
   "source": [
    "<div class=\"row\">\n",
    "  <div class=\"column\">\n",
    "    <img src=\"./img/logo-onera.png\" width=\"200\">\n",
    "  </div>\n",
    "  <div class=\"column\">\n",
    "    <img src=\"./img/logo-ISAE_SUPAERO.png\" width=\"200\">\n",
    "  </div>\n",
    "</div>"
   ]
  },
  {
   "cell_type": "markdown",
   "metadata": {},
   "source": [
    "# FAST-OAD-GA Tutorial"
   ]
  },
  {
   "cell_type": "markdown",
   "metadata": {},
   "source": [
    "FAST-OAD-GA is an add-on package for [FAST-OAD framework](https://github.com/fast-aircraft-design/FAST-OAD) for performing rapid Overall Aircraft Design in the category General Aviation (GA). The computational core of FAST-OAD being based on the  [OpenMDAO framework](https://openmdao.org/)."
   ]
  },
  {
   "cell_type": "code",
   "execution_count": 1,
   "metadata": {
    "tags": []
   },
   "outputs": [],
   "source": [
    "import warnings\n",
    "\n",
    "warnings.filterwarnings(action=\"ignore\")"
   ]
  },
  {
   "cell_type": "markdown",
   "metadata": {},
   "source": [
    "## 1. Setting up and analyzing the initial problem"
   ]
  },
  {
   "cell_type": "markdown",
   "metadata": {},
   "source": [
    "To organize our work, we propose to use two user folders `data/` and `workdir/`. For instance, in `data/` we store a XML file which describes the Beechcraft Duchess. In `workdir/`, we store files generated or modified by FAST-OAD."
   ]
  },
  {
   "cell_type": "code",
   "execution_count": 2,
   "metadata": {
    "tags": []
   },
   "outputs": [
    {
     "data": {
      "text/html": [
       "<style>.container { width:95% !important; }</style>"
      ],
      "text/plain": [
       "<IPython.core.display.HTML object>"
      ]
     },
     "metadata": {},
     "output_type": "display_data"
    }
   ],
   "source": [
    "import os.path as pth\n",
    "import os\n",
    "import openmdao.api as om\n",
    "from fastoad import api as api_cs25\n",
    "from fastga.command import api as api_cs23\n",
    "import logging\n",
    "from fastoad.gui import VariableViewer\n",
    "import shutil\n",
    "\n",
    "# Define relative path\n",
    "DATA_FOLDER_PATH = \"data\"\n",
    "WORK_FOLDER_PATH = \"workdir\"\n",
    "\n",
    "# Remove work folder\n",
    "shutil.rmtree(WORK_FOLDER_PATH, ignore_errors=True)\n",
    "\n",
    "# Define files\n",
    "CONFIGURATION_FILE = pth.join(WORK_FOLDER_PATH, \"oad_process.yml\")\n",
    "SOURCE_FILE = pth.join(DATA_FOLDER_PATH, \"beechcraft_76.xml\")\n",
    "\n",
    "# For having log messages on screen\n",
    "logging.basicConfig(level=logging.INFO, format=\"%(levelname)-8s: %(message)s\")\n",
    "\n",
    "# For using all screen width\n",
    "from IPython.core.display import display, HTML\n",
    "\n",
    "display(HTML(\"<style>.container { width:95% !important; }</style>\"))"
   ]
  },
  {
   "cell_type": "markdown",
   "metadata": {},
   "source": [
    "After defining a configuration file name, we can ask FAST-GA to generate a default configuration file based on the default OAD model implemented in the framework:"
   ]
  },
  {
   "cell_type": "code",
   "execution_count": 3,
   "metadata": {
    "tags": []
   },
   "outputs": [
    {
     "name": "stderr",
     "output_type": "stream",
     "text": [
      "INFO    : Loading FAST-OAD plugin bundled\n",
      "INFO    : Loading bundles from fastoad.models\n",
      "INFO    : Installed bundle fastoad.models.performances.mission.segments.registered.mass_input (ID 39 )\n",
      "INFO    : Installed bundle fastoad.models.performances.mission.util (ID 51 )\n",
      "INFO    : Installed bundle fastoad.models.performances.mission.segments.__init__ (ID 50 )\n",
      "INFO    : Installed bundle fastoad.models.performances.mission.segments.registered.hold (ID 38 )\n",
      "INFO    : Installed bundle fastoad.models.performances.mission.openmdao.link_mtow (ID 23 )\n",
      "INFO    : Installed bundle fastoad.models.performances.mission.openmdao.mission (ID 24 )\n",
      "INFO    : Installed bundle fastoad.models.performances.mission.segments.registered.speed_change (ID 40 )\n",
      "INFO    : Installed bundle fastoad.models.performances.mission.mission (ID 12 )\n",
      "INFO    : Installed bundle fastoad.models.performances.mission.openmdao.__init__ (ID 29 )\n",
      "INFO    : Installed bundle fastoad.models.performances.mission.__init__ (ID 52 )\n",
      "INFO    : Installed bundle fastoad.models.performances.mission.polar (ID 30 )\n",
      "INFO    : Installed bundle fastoad.models.performances.__init__ (ID 53 )\n",
      "INFO    : Installed bundle fastoad.models.performances.mission.openmdao.mission_run (ID 25 )\n",
      "INFO    : Installed bundle fastoad.models.performances.mission.segments.registered.start (ID 41 )\n",
      "INFO    : Installed bundle fastoad.models.performances.mission.openmdao.payload_range (ID 27 )\n",
      "INFO    : Installed bundle fastoad.models.__init__ (ID 54 )\n",
      "INFO    : Installed bundle fastoad.models.performances.mission.mission_definition.mission_builder.mission_builder (ID 16 )\n",
      "INFO    : Installed bundle fastoad.models.performances.mission.routes (ID 32 )\n",
      "INFO    : Installed bundle fastoad.models.performances.mission.openmdao.mission_wrapper (ID 26 )\n",
      "INFO    : Installed bundle fastoad.models.performances.mission.segments.registered.takeoff.end_of_takeoff (ID 42 )\n",
      "INFO    : Installed bundle fastoad.models.performances.mission.mission_definition.mission_builder.input_definition (ID 15 )\n",
      "INFO    : Installed bundle fastoad.models.performances.mission.segments.registered.takeoff.rotation (ID 43 )\n",
      "INFO    : Installed bundle fastoad.models.performances.mission.polar_modifier (ID 31 )\n",
      "INFO    : Installed bundle fastoad.models.performances.mission.mission_definition.mission_builder.structure_builders (ID 17 )\n",
      "INFO    : Installed bundle fastoad.models.performances.mission.segments.registered.takeoff.takeoff (ID 44 )\n",
      "INFO    : Installed bundle fastoad.models.performances.mission.mission_definition.mission_builder.__init__ (ID 18 )\n",
      "INFO    : Installed bundle fastoad.models.performances.mission.segments.registered.takeoff.__init__ (ID 45 )\n",
      "INFO    : Installed bundle fastoad.models.performances.mission.mission_definition.resources.__init__ (ID 19 )\n",
      "INFO    : Installed bundle fastoad.models.performances.mission.mission_definition.exceptions (ID 13 )\n",
      "INFO    : Installed bundle fastoad.models.performances.mission.openmdao.base (ID 22 )\n",
      "INFO    : Installed bundle fastoad.models.performances.mission.segments.base (ID 33 )\n",
      "INFO    : Installed bundle fastoad.models.performances.mission.segments.registered.transition (ID 47 )\n",
      "INFO    : Installed bundle fastoad.models.performances.mission.mission_definition.mission_builder.constants (ID 14 )\n",
      "INFO    : Installed bundle fastoad.models.performances.mission.mission_definition.schema (ID 20 )\n",
      "INFO    : Installed bundle fastoad.models.performances.mission.segments.registered.altitude_change (ID 35 )\n",
      "INFO    : Installed bundle fastoad.models.performances.mission.openmdao.resources.__init__ (ID 28 )\n",
      "INFO    : Installed bundle fastoad.models.performances.mission.segments.registered.taxi (ID 46 )\n",
      "INFO    : Installed bundle fastoad.models.performances.mission.base (ID 10 )\n",
      "INFO    : Installed bundle fastoad.models.performances.mission.segments.macro_segments (ID 34 )\n",
      "INFO    : Installed bundle fastoad.models.performances.mission.segments.registered.__init__ (ID 48 )\n",
      "INFO    : Installed bundle fastoad.models.performances.mission.mission_definition.__init__ (ID 21 )\n",
      "INFO    : Installed bundle fastoad.models.performances.mission.exceptions (ID 11 )\n",
      "INFO    : Installed bundle fastoad.models.performances.mission.segments.registered.cruise (ID 36 )\n",
      "INFO    : Installed bundle fastoad.models.performances.mission.segments.time_step_base (ID 49 )\n",
      "INFO    : Installed bundle fastoad.models.performances.mission.segments.registered.ground_speed_change (ID 37 )\n",
      "INFO    : Loaded variable descriptions in fastoad.models\n",
      "INFO    : Loading FAST-OAD plugin cs23\n",
      "INFO    : Loading bundles from fastga.models\n",
      "INFO    : Loaded variable descriptions in fastga.models.aerodynamics\n",
      "INFO    : Loaded variable descriptions in fastga.models.aerodynamics\n",
      "INFO    : Loaded variable descriptions in fastga.models.aerodynamics\n",
      "INFO    : Loaded variable descriptions in fastga.models.aerodynamics\n",
      "INFO    : Loaded variable descriptions in fastga.models.aerodynamics\n",
      "INFO    : Loaded variable descriptions in fastga.models.aerodynamics\n",
      "INFO    : Loaded variable descriptions in fastga.models.geometry\n",
      "INFO    : Loaded variable descriptions in fastga.models.geometry\n",
      "INFO    : Loaded variable descriptions in fastga.models.handling_qualities\n",
      "INFO    : Loaded variable descriptions in fastga.models.handling_qualities\n",
      "INFO    : Loaded variable descriptions in fastga.models.loops\n",
      "INFO    : Loaded variable descriptions in fastga.models.loops\n",
      "INFO    : Loaded variable descriptions in fastga.models.weight.cg\n",
      "INFO    : Loaded variable descriptions in fastga.models.weight.mass_breakdown\n",
      "INFO    : Loaded variable descriptions in fastga.models.weight.mass_breakdown\n",
      "INFO    : Loaded variable descriptions in fastga.models.weight.mass_breakdown\n",
      "INFO    : Loaded variable descriptions in fastga.models.weight.mass_breakdown\n",
      "INFO    : Installed bundle fastga.models.geometry.geom_components.ht.components.compute_ht_distance (ID 170 )\n",
      "INFO    : Installed bundle fastga.models.geometry.geom_components.propeller.components.compute_propeller_position (ID 186 )\n",
      "INFO    : Installed bundle fastga.models.geometry.geom_components.wing.components.compute_wing_b50 (ID 200 )\n",
      "INFO    : Installed bundle fastga.models.load_analysis.wing.aerodynamic_loads (ID 239 )\n",
      "INFO    : Installed bundle fastga.models.performances.mission_vector.full_mission (ID 272 )\n",
      "INFO    : Installed bundle fastga.models.propulsion.fuel_propulsion.basicIC_engine.resources.__init__ (ID 308 )\n",
      "INFO    : Installed bundle fastga.models.performances.mission_vector.mission.__init__ (ID 294 )\n",
      "INFO    : Installed bundle fastga.models.aerodynamics.components.vt.__init__ (ID 122 )\n",
      "INFO    : Installed bundle fastga.models.geometry.geom_components.ht.components.compute_ht_efficiency (ID 171 )\n",
      "INFO    : Installed bundle fastga.models.load_analysis.wing.constants (ID 241 )\n",
      "INFO    : Installed bundle fastga.models.options (ID 257 )\n",
      "INFO    : Installed bundle fastga.models.performances.mission_vector.mission.compute_time_step (ID 282 )\n",
      "INFO    : Installed bundle fastga.models.performances.unitary_tests.dummy_engines (ID 300 )\n",
      "INFO    : Installed bundle fastga.models.propulsion.fuel_propulsion.basicIC_engine.unitary_tests.test_basicIC_engine (ID 309 )\n",
      "INFO    : Installed bundle fastga.models.geometry.geom_components.ht.components.compute_ht_mac (ID 172 )\n",
      "INFO    : Installed bundle fastga.models.load_analysis.wing.aerostructural_loads (ID 240 )\n",
      "INFO    : Installed bundle fastga.models.performances.mission.constants (ID 258 )\n",
      "INFO    : Installed bundle fastga.models.performances.mission_vector.initialization.initialize_airspeed (ID 274 )\n",
      "INFO    : Installed bundle fastga.models.propulsion.fuel_propulsion.basicTurbo_prop_map.unitary_tests.test_basicTP_engine_mapped (ID 352 )\n",
      "INFO    : Installed bundle fastga.models.propulsion.fuel_propulsion.basicIC_engine.__init__ (ID 311 )\n",
      "INFO    : Installed bundle fastga.models.weight.cg.cg_components.max_cg_ratio (ID 380 )\n",
      "INFO    : Installed bundle fastga.models.geometry.geom_components.ht.components.compute_ht_sweep (ID 173 )\n",
      "INFO    : Installed bundle fastga.models.load_analysis.wing.loads (ID 242 )\n",
      "INFO    : Installed bundle fastga.models.performances.mission_vector.initialization.initialize_airspeed_derivatives (ID 275 )\n",
      "INFO    : Installed bundle fastga.models.performances.mission_vector.mission_vector (ID 295 )\n",
      "INFO    : Installed bundle fastga.models.propulsion.fuel_propulsion.basicTurbo_prop_map.__init__ (ID 354 )\n",
      "INFO    : Installed bundle fastga.models.geometry.geom_components.ht.components.compute_ht_volume_coefficient (ID 174 )\n",
      "INFO    : Installed bundle fastga.models.performances.mission_vector.initialization.initialize_altitude (ID 276 )\n",
      "INFO    : Installed bundle fastga.models.geometry.geom_components.ht.components.compute_ht_wet_area (ID 175 )\n",
      "INFO    : Installed bundle fastga.models.load_analysis.wing.__init__ (ID 244 )\n",
      "INFO    : Installed bundle fastga.models.performances.mission.dynamic_equilibrium (ID 259 )\n",
      "INFO    : Installed bundle fastga.models.performances.mission_vector.initialization.initialize_cg (ID 277 )\n",
      "INFO    : Installed bundle fastga.models.performances.mission_vector.to_csv (ID 296 )\n",
      "INFO    : Installed bundle fastga.models.propulsion.fuel_propulsion.basicTurbo_prop.basicTP_engine (ID 312 )\n",
      "INFO    : Installed bundle fastga.models.propulsion.propulsion (ID 356 )\n",
      "INFO    : Installed bundle fastga.models.performances.mission_vector.initialization.initialize_gamma (ID 278 )\n",
      "INFO    : Installed bundle fastga.models.performances.unitary_tests.__init__ (ID 301 )\n",
      "INFO    : Installed bundle fastga.models.weight.cg.cg_components.payload (ID 381 )\n",
      "INFO    : Installed bundle fastga.models.weight.cg.cg_components.__init__ (ID 383 )\n",
      "INFO    : Installed bundle fastga.models.geometry.geom_components.ht.components.__init__ (ID 176 )\n",
      "INFO    : Installed bundle fastga.models.performances.mission_vector.initialization.initialize_horizontal_speed (ID 279 )\n",
      "INFO    : Installed bundle fastga.models.performances.mission_vector.__init__ (ID 297 )\n",
      "INFO    : Installed bundle fastga.models.propulsion.dict (ID 303 )\n",
      "INFO    : Installed bundle fastga.models.propulsion.fuel_propulsion.__init__ (ID 355 )\n",
      "INFO    : Installed bundle fastga.models.weight.mass_breakdown.update_mtow (ID 448 )\n",
      "INFO    : Installed bundle fastga.models.performances.mission.takeoff (ID 269 )\n",
      "INFO    : Installed bundle fastga.models.performances.mission.mission (ID 260 )\n",
      "INFO    : Installed bundle fastga.models.performances.mission_vector.initialization.initialize_time_and_distance (ID 280 )\n",
      "INFO    : Installed bundle fastga.models.propulsion.fuel_propulsion.basicIC_engine.basicIC_engine (ID 305 )\n",
      "INFO    : Installed bundle fastga.models.propulsion.fuel_propulsion.basicIC_engine.unitary_tests.__init__ (ID 310 )\n",
      "INFO    : Installed bundle fastga.models.performances.mission_vector.initialization.__init__ (ID 281 )\n",
      "INFO    : Installed bundle fastga.models.propulsion.fuel_propulsion.base (ID 304 )\n",
      "INFO    : Installed bundle fastga.models.weight.weight (ID 450 )\n",
      "INFO    : Installed bundle fastga.models.propulsion.__init__ (ID 357 )\n",
      "INFO    : Installed bundle fastga.models.geometry.geom_components.propeller.components.__init__ (ID 187 )\n",
      "INFO    : Installed bundle fastga.models.weight.__init__ (ID 451 )\n",
      "INFO    : Installed bundle fastga.models.geometry.geom_components.ht.constants (ID 178 )\n",
      "INFO    : Installed bundle fastga.models.geometry.geom_components.propeller.compute_propeller (ID 188 )\n",
      "INFO    : Installed bundle fastga.models.performances.mission_vector.mission.dep_equilibrium (ID 283 )\n",
      "INFO    : Installed bundle fastga.models.__init__ (ID 452 )\n",
      "INFO    : Installed bundle fastga.models.geometry.geom_components.nacelle.compute_nacelle_dimension (ID 182 )\n",
      "INFO    : Installed bundle fastga.models.handling_qualities.tail_sizing.compute_to_rotation_limit (ID 228 )\n",
      "INFO    : Installed bundle fastga.models.performances.mission.mission_builder_prep (ID 261 )\n",
      "INFO    : Installed bundle fastga.models.performances.mission_vector.mission.energy_consumption_preparation (ID 284 )\n",
      "INFO    : Installed bundle fastga.models.aerodynamics.external.propeller_code.propeller_core (ID 143 )\n",
      "INFO    : Installed bundle fastga.models.geometry.geom_components.ht.__init__ (ID 179 )\n",
      "INFO    : Installed bundle fastga.models.geometry.geom_components.propeller.constants (ID 189 )\n",
      "INFO    : Installed bundle fastga.models.performances.mission_vector.mission.equilibrium (ID 285 )\n",
      "INFO    : Installed bundle fastga.models.aerodynamics.external.vlm.vlm (ID 146 )\n",
      "INFO    : Installed bundle fastga.models.handling_qualities.tail_sizing.constants (ID 229 )\n",
      "INFO    : Installed bundle fastga.models.performances.mission.mission_components.climb (ID 262 )\n",
      "INFO    : Installed bundle fastga.models.weight.cg.cg (ID 358 )\n",
      "INFO    : Installed bundle fastga.models.geometry.geom_components.propeller.__init__ (ID 190 )\n",
      "INFO    : Installed bundle fastga.models.performances.mission_vector.mission.mission_core (ID 286 )\n",
      "INFO    : Installed bundle fastga.models.aerodynamics.external.propeller_code.__init__ (ID 144 )\n",
      "INFO    : Installed bundle fastga.models.geometry.geom_components.landing_gears.compute_lg (ID 180 )\n",
      "INFO    : Installed bundle fastga.models.performances.mission.mission_components.cruise (ID 263 )\n",
      "INFO    : Installed bundle fastga.models.performances.payload_range.payload_range (ID 298 )\n",
      "INFO    : Installed bundle fastga.models.performances.mission.mission_components.descent (ID 264 )\n",
      "INFO    : Installed bundle fastga.models.performances.mission_vector.mission.no_dep_effect (ID 287 )\n",
      "INFO    : Installed bundle fastga.models.performances.__init__ (ID 302 )\n",
      "INFO    : Installed bundle fastga.models.propulsion.fuel_propulsion.basicTurbo_prop_map.unitary_tests.__init__ (ID 353 )\n",
      "INFO    : Installed bundle fastga.models.geometry.geom_components.landing_gears.__init__ (ID 181 )\n",
      "INFO    : Installed bundle fastga.models.geometry.geom_components.vt.components.compute_vt_chords (ID 191 )\n",
      "INFO    : Installed bundle fastga.models.performances.payload_range.__init__ (ID 299 )\n",
      "INFO    : Installed bundle fastga.models.weight.cg.cg_components.ratio_aft (ID 382 )\n",
      "INFO    : Installed bundle fastga.models.geometry.geom_components.vt.components.compute_vt_distance (ID 192 )\n",
      "INFO    : Installed bundle fastga.models.performances.mission.mission_components.reserve (ID 265 )\n",
      "INFO    : Installed bundle fastga.models.weight.cg.cg_variation (ID 384 )\n",
      "INFO    : Installed bundle fastga.models.aerodynamics.external.vlm.compute_aero (ID 145 )\n",
      "INFO    : Installed bundle fastga.models.geometry.geom_components.nacelle.compute_nacelle_position (ID 183 )\n",
      "INFO    : Installed bundle fastga.models.geometry.geom_components.vt.components.compute_vt_mac (ID 193 )\n",
      "INFO    : Installed bundle fastga.models.performances.mission_vector.mission.performance_per_phase (ID 288 )\n",
      "INFO    : Installed bundle fastga.models.propulsion.fuel_propulsion.basicIC_engine.exceptions (ID 306 )\n",
      "INFO    : Installed bundle fastga.models.geometry.geom_components.vt.components.compute_vt_sweep (ID 194 )\n",
      "INFO    : Installed bundle fastga.models.performances.mission_vector.mission.propulsion_via_id (ID 289 )\n",
      "INFO    : Installed bundle fastga.models.weight.cg.__init__ (ID 387 )\n",
      "INFO    : Installed bundle fastga.models.geometry.geom_components.vt.components.compute_vt_wet_area (ID 195 )\n",
      "INFO    : Installed bundle fastga.models.performances.mission.mission_components.taxi (ID 266 )\n",
      "INFO    : Installed bundle fastga.models.aerodynamics.external.vlm.__init__ (ID 147 )\n",
      "INFO    : Installed bundle fastga.models.geometry.geom_components.nacelle.__init__ (ID 184 )\n",
      "INFO    : Installed bundle fastga.models.handling_qualities.tail_sizing.update_ht_area (ID 230 )\n",
      "INFO    : Installed bundle fastga.models.performances.mission.mission_components.__init__ (ID 267 )\n",
      "INFO    : Installed bundle fastga.models.propulsion.fuel_propulsion.basicIC_engine.openmdao (ID 307 )\n",
      "INFO    : Installed bundle fastga.models.geometry.geom_components.vt.components.__init__ (ID 196 )\n",
      "INFO    : Installed bundle fastga.models.loops.wing_area_component.wing_area_loop_geom_simple (ID 254 )\n",
      "INFO    : Installed bundle fastga.models.geometry.geom_components.wing.components.compute_wing_l1_l4 (ID 201 )\n",
      "INFO    : Installed bundle fastga.models.handling_qualities.tail_sizing.update_tail_areas (ID 231 )\n",
      "INFO    : Installed bundle fastga.models.performances.mission.resources.__init__ (ID 268 )\n",
      "INFO    : Installed bundle fastga.models.performances.mission_vector.mission.reserve_energy (ID 290 )\n",
      "INFO    : Installed bundle fastga.models.geometry.geom_components.vt.compute_vertical_tail (ID 197 )\n",
      "INFO    : Installed bundle fastga.models.geometry.geom_components.wing.components.compute_wing_l2_l3 (ID 202 )\n",
      "INFO    : Installed bundle fastga.models.aerodynamics.external.xfoil.xfoil699.__init__ (ID 149 )\n",
      "INFO    : Installed bundle fastga.models.geometry.geom_components.wing.components.compute_wing_mac (ID 203 )\n",
      "INFO    : Installed bundle fastga.models.performances.mission.__init__ (ID 270 )\n",
      "INFO    : Installed bundle fastga.models.performances.mission_vector.mission.sizing_energy (ID 291 )\n",
      "INFO    : Installed bundle fastga.models.aerodynamics.components.wing.compute_cl_beta_wing (ID 123 )\n",
      "INFO    : Installed bundle fastga.models.geometry.geom_components.wing.components.compute_wing_sweep (ID 204 )\n",
      "INFO    : Installed bundle fastga.models.loops.__init__ (ID 256 )\n",
      "INFO    : Installed bundle fastga.models.aerodynamics.components.wing.compute_cl_pitch_rate_wing (ID 124 )\n",
      "INFO    : Installed bundle fastga.models.geometry.geom_components.wing.components.compute_wing_toc (ID 205 )\n",
      "INFO    : Installed bundle fastga.models.loops.wing_area_component.wing_area_loop_cl_simple (ID 252 )\n",
      "INFO    : Installed bundle fastga.models.performances.mission_vector.mission.thrust_taxi (ID 292 )\n",
      "INFO    : Installed bundle fastga.models.aerodynamics.components.wing.compute_cl_roll_rate_wing (ID 125 )\n",
      "INFO    : Installed bundle fastga.models.geometry.geom_components.vt.constants (ID 198 )\n",
      "INFO    : Installed bundle fastga.models.geometry.geom_components.wing.components.compute_wing_wet_area (ID 206 )\n",
      "INFO    : Installed bundle fastga.models.performances.mission_vector.constants (ID 271 )\n",
      "INFO    : Installed bundle fastga.models.weight.cg.unitary_tests.dummy_engines (ID 385 )\n",
      "INFO    : Installed bundle fastga.models.aerodynamics.components.wing.compute_cl_yaw_rate_wing (ID 126 )\n",
      "INFO    : Installed bundle fastga.models.geometry.geom_components.propeller.components.compute_propeller_installation_effect (ID 185 )\n",
      "INFO    : Installed bundle fastga.models.geometry.geom_components.wing.components.compute_wing_x (ID 207 )\n",
      "INFO    : Installed bundle fastga.models.loops.wing_area_component.wing_area_loop_geom_adv (ID 253 )\n",
      "INFO    : Installed bundle fastga.models.performances.mission_vector.initialization.initialize (ID 273 )\n",
      "INFO    : Installed bundle fastga.models.performances.mission_vector.mission.update_mass (ID 293 )\n",
      "INFO    : Installed bundle fastga.models.weight.cg.unitary_tests.__init__ (ID 386 )\n",
      "INFO    : Installed bundle fastga.models.aerodynamics.components.wing.compute_cm_pitch_rate_wing (ID 127 )\n",
      "INFO    : Installed bundle fastga.models.geometry.geom_components.vt.__init__ (ID 199 )\n",
      "INFO    : Installed bundle fastga.models.geometry.geom_components.wing.components.compute_wing_x_absolute (ID 208 )\n",
      "INFO    : Installed bundle fastga.models.propulsion.fuel_propulsion.basicTurbo_prop.exceptions (ID 313 )\n",
      "INFO    : Installed bundle fastga.models.aerodynamics.components.wing.compute_cn_roll_rate_wing (ID 128 )\n",
      "INFO    : Installed bundle fastga.models.geometry.geom_components.wing.components.compute_wing_y (ID 209 )\n",
      "INFO    : Installed bundle fastga.models.loops.wing_area_component.__init__ (ID 255 )\n",
      "INFO    : Installed bundle fastga.models.propulsion.fuel_propulsion.basicTurbo_prop.openmdao (ID 314 )\n",
      "INFO    : Installed bundle fastga.models.weight.constants (ID 388 )\n",
      "INFO    : Installed bundle fastga.models.aerodynamics.aero_center (ID 59 )\n",
      "INFO    : Installed bundle fastga.models.aerodynamics.components.wing.compute_cn_yaw_rate_wing (ID 129 )\n",
      "INFO    : Installed bundle fastga.models.aerodynamics.components.cd0 (ID 62 )\n",
      "INFO    : Installed bundle fastga.models.aerodynamics.components.wing.compute_cy_beta_wing (ID 130 )\n",
      "INFO    : Installed bundle fastga.models.weight.mass_breakdown.__init__ (ID 449 )\n",
      "INFO    : Installed bundle fastga.models.aerodynamics.airfoil_folder.__init__ (ID 60 )\n",
      "INFO    : Installed bundle fastga.models.aerodynamics.components.wing.__init__ (ID 131 )\n",
      "INFO    : Installed bundle fastga.models.handling_qualities.tail_sizing.update_vt_area (ID 232 )\n",
      "INFO    : Installed bundle fastga.models.aerodynamics.components.airfoil_lift_curve_slope (ID 61 )\n",
      "INFO    : Installed bundle fastga.models.aerodynamics.compute_polar (ID 133 )\n",
      "INFO    : Installed bundle fastga.models.aerodynamics.aerodynamics_stability_derivatives (ID 58 )\n",
      "INFO    : Installed bundle fastga.models.aerodynamics.components.__init__ (ID 132 )\n",
      "INFO    : Installed bundle fastga.models.handling_qualities.tail_sizing.__init__ (ID 233 )\n",
      "INFO    : Installed bundle fastga.models.aerodynamics.aerodynamics (ID 55 )\n",
      "INFO    : Installed bundle fastga.models.aerodynamics.external.openvsp.compute_aero_slipstream (ID 136 )\n",
      "INFO    : Installed bundle fastga.models.aerodynamics.external.xfoil.resources.__init__ (ID 148 )\n",
      "INFO    : Installed bundle fastga.models.aerodynamics.constants (ID 134 )\n",
      "INFO    : Installed bundle fastga.models.weight.cg.cg_components.a_airframe.a1_wing_cg (ID 359 )\n",
      "INFO    : Installed bundle fastga.models.aerodynamics.components.cd0_fuselage (ID 63 )\n",
      "INFO    : Installed bundle fastga.models.weight.cg.cg_components.a_airframe.a2_fuselage_cg (ID 360 )\n",
      "INFO    : Installed bundle fastga.models.weight.mass_breakdown.a_airframe.a1_wing_weight (ID 389 )\n",
      "INFO    : Installed bundle fastga.models.aerodynamics.components.cd0_ht (ID 64 )\n",
      "INFO    : Installed bundle fastga.models.aerodynamics.external.openvsp.compute_aero (ID 135 )\n",
      "INFO    : Installed bundle fastga.models.weight.cg.cg_components.a_airframe.a4_flight_control_cg (ID 362 )\n",
      "INFO    : Installed bundle fastga.models.weight.mass_breakdown.a_airframe.a1_wing_weight_analytical (ID 390 )\n",
      "INFO    : Installed bundle fastga.models.aerodynamics.external.openvsp.openvsp3201.__init__ (ID 138 )\n",
      "INFO    : Installed bundle fastga.models.weight.mass_breakdown.a_airframe.a2_fuselage_weight (ID 391 )\n",
      "INFO    : Installed bundle fastga.models.weight.cg.cg_components.a_airframe.a3_tail_cg (ID 361 )\n",
      "INFO    : Installed bundle fastga.models.weight.mass_breakdown.a_airframe.a2_fuselage_weight_analytical (ID 392 )\n",
      "INFO    : Installed bundle fastga.models.aerodynamics.components.cd0_lg (ID 65 )\n",
      "INFO    : Installed bundle fastga.models.aerodynamics.external.openvsp.openvsp (ID 137 )\n",
      "INFO    : Installed bundle fastga.models.weight.cg.cg_components.a_airframe.a5_landing_gear_cg (ID 363 )\n",
      "INFO    : Installed bundle fastga.models.aerodynamics.components.cd0_vt (ID 69 )\n",
      "INFO    : Installed bundle fastga.models.weight.mass_breakdown.a_airframe.a3_tail_weight (ID 393 )\n",
      "INFO    : Installed bundle fastga.models.weight.mass_breakdown.a_airframe.a4_flight_control_weight (ID 394 )\n",
      "INFO    : Installed bundle fastga.models.aerodynamics.external.openvsp.resources.__init__ (ID 139 )\n",
      "INFO    : Installed bundle fastga.models.propulsion.fuel_propulsion.basicTurbo_prop_map.basicTP_engine_mapped (ID 349 )\n",
      "INFO    : Installed bundle fastga.models.weight.cg.cg_components.a_airframe.__init__ (ID 364 )\n",
      "INFO    : Installed bundle fastga.models.weight.mass_breakdown.a_airframe.a5_landing_gear_weight (ID 395 )\n",
      "INFO    : Installed bundle fastga.models.aerodynamics.aerodynamics_high_speed (ID 56 )\n",
      "INFO    : Installed bundle fastga.models.aerodynamics.components.cd0_nacelle (ID 66 )\n",
      "INFO    : Installed bundle fastga.models.handling_qualities.unitary_tests.dummy_engines (ID 234 )\n",
      "INFO    : Installed bundle fastga.models.weight.mass_breakdown.a_airframe.a7_paint_weight (ID 396 )\n",
      "INFO    : Installed bundle fastga.models.weight.mass_breakdown.update_mlw_and_mzfw (ID 447 )\n",
      "INFO    : Installed bundle fastga.models.weight.mass_breakdown.a_airframe.fuselage_components.compute_additional_bending_material_mass_h (ID 398 )\n",
      "INFO    : Installed bundle fastga.models.aerodynamics.aerodynamics_low_speed (ID 57 )\n",
      "INFO    : Installed bundle fastga.models.aerodynamics.components.cd0_other (ID 67 )\n",
      "INFO    : Installed bundle fastga.models.aerodynamics.external.openvsp.__init__ (ID 140 )\n",
      "INFO    : Installed bundle fastga.models.weight.mass_breakdown.a_airframe.constants (ID 397 )\n",
      "INFO    : Installed bundle fastga.models.aerodynamics.components.cd0_total (ID 68 )\n",
      "INFO    : Installed bundle fastga.models.weight.mass_breakdown.a_airframe.fuselage_components.compute_additional_bending_material_mass_v (ID 399 )\n",
      "INFO    : Installed bundle fastga.models.aerodynamics.external.propeller_code.compute_propeller_aero (ID 141 )\n",
      "INFO    : Installed bundle fastga.models.weight.mass_breakdown.a_airframe.fuselage_components.compute_bulkhead_mass (ID 400 )\n",
      "INFO    : Installed bundle fastga.models.weight.mass_breakdown.a_airframe.fuselage_components.compute_cone_mass (ID 401 )\n",
      "INFO    : Installed bundle fastga.models.load_analysis.unitary_tests.dummy_engines (ID 237 )\n",
      "INFO    : Installed bundle fastga.models.weight.mass_breakdown.a_airframe.fuselage_components.compute_doors_mass (ID 402 )\n",
      "INFO    : Installed bundle fastga.models.aerodynamics.components.compute_cl_beta (ID 73 )\n",
      "INFO    : Installed bundle fastga.models.handling_qualities.__init__ (ID 236 )\n",
      "INFO    : Installed bundle fastga.models.weight.mass_breakdown.a_airframe.fuselage_components.compute_engine_support_mass (ID 403 )\n",
      "INFO    : Installed bundle fastga.models.weight.mass_breakdown.a_airframe.fuselage_components.compute_floor_mass (ID 404 )\n",
      "INFO    : Installed bundle fastga.models.aerodynamics.components.cd0_wing (ID 70 )\n",
      "INFO    : Installed bundle fastga.models.handling_qualities.unitary_tests.__init__ (ID 235 )\n",
      "INFO    : Installed bundle fastga.models.weight.mass_breakdown.a_airframe.fuselage_components.compute_insulation_mass (ID 405 )\n",
      "INFO    : Installed bundle fastga.models.aerodynamics.components.compute_cl_aileron (ID 71 )\n",
      "INFO    : Installed bundle fastga.models.load_analysis.unitary_tests.__init__ (ID 238 )\n",
      "INFO    : Installed bundle fastga.models.weight.mass_breakdown.a_airframe.fuselage_components.compute_nlg_hatch_mass (ID 406 )\n",
      "INFO    : Installed bundle fastga.models.aerodynamics.external.propeller_code.compute_propeller_coefficient_map (ID 142 )\n",
      "INFO    : Installed bundle fastga.models.weight.mass_breakdown.a_airframe.fuselage_components.compute_shell_mass (ID 407 )\n",
      "INFO    : Installed bundle fastga.models.aerodynamics.components.compute_cl_alpha_dot (ID 72 )\n",
      "INFO    : Installed bundle fastga.models.weight.mass_breakdown.a_airframe.fuselage_components.compute_windows_mass (ID 408 )\n",
      "INFO    : Installed bundle fastga.models.aerodynamics.external.xfoil.xfoil_group (ID 150 )\n",
      "INFO    : Installed bundle fastga.models.geometry.geom_components.wing.components.compute_wing_z (ID 210 )\n",
      "INFO    : Installed bundle fastga.models.weight.mass_breakdown.a_airframe.fuselage_components.compute_wing_fuselage_connection_mass (ID 409 )\n",
      "INFO    : Installed bundle fastga.models.aerodynamics.components.compute_cl_extreme (ID 74 )\n",
      "INFO    : Installed bundle fastga.models.aerodynamics.components.compute_cy_roll_rate (ID 89 )\n",
      "INFO    : Installed bundle fastga.models.weight.mass_breakdown.a_airframe.fuselage_components.update_fuselage_mass (ID 410 )\n",
      "INFO    : Installed bundle fastga.models.aerodynamics.components.ht.downwash_gradient (ID 110 )\n",
      "INFO    : Installed bundle fastga.models.aerodynamics.external.xfoil.xfoil_polar (ID 151 )\n",
      "INFO    : Installed bundle fastga.models.geometry.geom_components.wing.components.__init__ (ID 211 )\n",
      "INFO    : Installed bundle fastga.models.weight.cg.cg_components.c_systems.__init__ (ID 375 )\n",
      "INFO    : Installed bundle fastga.models.weight.mass_breakdown.a_airframe.fuselage_components.__init__ (ID 411 )\n",
      "INFO    : Installed bundle fastga.models.aerodynamics.components.compute_cl_extreme_htp (ID 75 )\n",
      "INFO    : Installed bundle fastga.models.aerodynamics.components.compute_cy_rudder (ID 90 )\n",
      "INFO    : Installed bundle fastga.models.aerodynamics.external.__init__ (ID 153 )\n",
      "INFO    : Installed bundle fastga.models.weight.mass_breakdown.a_airframe.wing_components.compute_lower_flange (ID 413 )\n",
      "INFO    : Installed bundle fastga.models.aerodynamics.components.compute_cl_extreme_wing (ID 76 )\n",
      "INFO    : Installed bundle fastga.models.aerodynamics.components.compute_effective_efficiency_prop (ID 92 )\n",
      "INFO    : Installed bundle fastga.models.aerodynamics.components.ht.__init__ (ID 111 )\n",
      "INFO    : Installed bundle fastga.models.aerodynamics.external.xfoil.__init__ (ID 152 )\n",
      "INFO    : Installed bundle fastga.models.propulsion.fuel_propulsion.basicTurbo_prop_map.exceptions (ID 350 )\n",
      "INFO    : Installed bundle fastga.models.weight.cg.cg_components.b_propulsion.b1_engine_cg (ID 365 )\n",
      "INFO    : Installed bundle fastga.models.weight.cg.cg_components.d_furniture.d2_passenger_seats_cg (ID 376 )\n",
      "INFO    : Installed bundle fastga.models.aerodynamics.components.compute_cy_yaw_rate (ID 91 )\n",
      "INFO    : Installed bundle fastga.models.propulsion.fuel_propulsion.basicTurbo_prop_map.openmdao (ID 351 )\n",
      "INFO    : Installed bundle fastga.models.weight.cg.cg_components.b_propulsion.b2_fuel_lines_cg (ID 366 )\n",
      "INFO    : Installed bundle fastga.models.weight.mass_breakdown.a_airframe.sum (ID 412 )\n",
      "INFO    : Installed bundle fastga.models.aerodynamics.components.compute_equilibrated_polar (ID 93 )\n",
      "INFO    : Installed bundle fastga.models.geometry.geom_components.wing.compute_wing (ID 212 )\n",
      "INFO    : Installed bundle fastga.models.aerodynamics.components.compute_cl_pitch_rate (ID 77 )\n",
      "INFO    : Installed bundle fastga.models.aerodynamics.components.compute_non_equilibrated_polar (ID 95 )\n",
      "INFO    : Installed bundle fastga.models.aerodynamics.components.mach_interpolation (ID 112 )\n",
      "INFO    : Installed bundle fastga.models.weight.cg.cg_components.b_propulsion.b3_tank_cg (ID 367 )\n",
      "INFO    : Installed bundle fastga.models.weight.mass_breakdown.a_airframe.wing_components.compute_misc_mass (ID 414 )\n",
      "INFO    : Installed bundle fastga.models.geometry.geom_components.wing.constants (ID 213 )\n",
      "INFO    : Installed bundle fastga.models.load_analysis.wing.structural_loads (ID 243 )\n",
      "INFO    : Installed bundle fastga.models.weight.mass_breakdown.a_airframe.wing_components.compute_primary_mass (ID 415 )\n",
      "INFO    : Installed bundle fastga.models.aerodynamics.components.compute_cl_roll_rate (ID 78 )\n",
      "INFO    : Installed bundle fastga.models.aerodynamics.components.compute_L_D_max (ID 94 )\n",
      "INFO    : Installed bundle fastga.models.aerodynamics.components.resources.__init__ (ID 113 )\n",
      "INFO    : Installed bundle fastga.models.geometry.geom_components.__init__ (ID 218 )\n",
      "INFO    : Installed bundle fastga.models.load_analysis.__init__ (ID 245 )\n",
      "INFO    : Installed bundle fastga.models.weight.mass_breakdown.a_airframe.wing_components.compute_ribs_mass (ID 416 )\n",
      "INFO    : Installed bundle fastga.models.geometry.geom_components.wing.__init__ (ID 214 )\n",
      "INFO    : Installed bundle fastga.models.loops.update_wing_area_group (ID 248 )\n",
      "INFO    : Installed bundle fastga.models.weight.cg.cg_components.b_propulsion.b_cg (ID 368 )\n",
      "INFO    : Installed bundle fastga.models.weight.mass_breakdown.a_airframe.wing_components.compute_secondary_mass (ID 417 )\n",
      "INFO    : Installed bundle fastga.models.weight.mass_breakdown.b_propulsion.b1_engine_weight (ID 425 )\n",
      "INFO    : Installed bundle fastga.models.aerodynamics.components.compute_cl_rudder (ID 79 )\n",
      "INFO    : Installed bundle fastga.models.loops.constants (ID 246 )\n",
      "INFO    : Installed bundle fastga.models.weight.cg.cg_components.d_furniture.__init__ (ID 377 )\n",
      "INFO    : Installed bundle fastga.models.weight.mass_breakdown.a_airframe.wing_components.compute_skin_mass (ID 418 )\n",
      "INFO    : Installed bundle fastga.models.weight.mass_breakdown.b_propulsion.b2_fuel_lines_weight (ID 426 )\n",
      "INFO    : Installed bundle fastga.models.weight.mass_breakdown.c_systems.c1_power_systems_weight (ID 432 )\n",
      "INFO    : Installed bundle fastga.models.aerodynamics.components.compute_reynolds (ID 96 )\n",
      "INFO    : Installed bundle fastga.models.geometry.geom_components.wing_tank.compute_mfw_advanced (ID 215 )\n",
      "INFO    : Installed bundle fastga.models.handling_qualities.tail_sizing.compute_balked_landing_limit (ID 227 )\n",
      "INFO    : Installed bundle fastga.models.loops.unitary_tests.__init__ (ID 247 )\n",
      "INFO    : Installed bundle fastga.models.weight.cg.cg_components.b_propulsion.__init__ (ID 369 )\n",
      "INFO    : Installed bundle fastga.models.weight.mass_breakdown.a_airframe.wing_components.compute_upper_flange (ID 419 )\n",
      "INFO    : Installed bundle fastga.models.weight.mass_breakdown.b_propulsion.b3_unusable_fuel_weight (ID 427 )\n",
      "INFO    : Installed bundle fastga.models.aerodynamics.components.compute_cl_yaw_rate (ID 80 )\n",
      "INFO    : Installed bundle fastga.models.geometry.geom_components.wing_tank.compute_mfw_simple (ID 216 )\n",
      "INFO    : Installed bundle fastga.models.loops.update_wing_position (ID 249 )\n",
      "INFO    : Installed bundle fastga.models.weight.mass_breakdown.a_airframe.wing_components.compute_web_mass (ID 420 )\n",
      "INFO    : Installed bundle fastga.models.weight.mass_breakdown.c_systems.c3_avionics_systems_weight (ID 434 )\n",
      "INFO    : Installed bundle fastga.models.aerodynamics.components.compute_vn (ID 97 )\n",
      "INFO    : Installed bundle fastga.models.geometry.profiles.get_profile (ID 219 )\n",
      "INFO    : Installed bundle fastga.models.handling_qualities.compute_static_margin (ID 225 )\n",
      "INFO    : Installed bundle fastga.models.loops.wing_area_component.wing_area_cl_equilibrium (ID 251 )\n",
      "INFO    : Installed bundle fastga.models.weight.mass_breakdown.a_airframe.wing_components.update_wing_mass (ID 421 )\n",
      "INFO    : Installed bundle fastga.models.weight.mass_breakdown.c_systems.c4_recording_systems_weight (ID 435 )\n",
      "INFO    : Installed bundle fastga.models.aerodynamics.components.compute_cm_alpha_dot (ID 81 )\n",
      "INFO    : Installed bundle fastga.models.handling_qualities.handling_qualities (ID 226 )\n",
      "INFO    : Installed bundle fastga.models.weight.cg.cg_components.constants (ID 370 )\n",
      "INFO    : Installed bundle fastga.models.weight.mass_breakdown.a_airframe.wing_components.__init__ (ID 422 )\n",
      "INFO    : Installed bundle fastga.models.weight.mass_breakdown.b_propulsion.constants (ID 428 )\n",
      "INFO    : Installed bundle fastga.models.aerodynamics.components.elevator_aero (ID 98 )\n",
      "INFO    : Installed bundle fastga.models.geometry.geom_components.wing_tank.__init__ (ID 217 )\n",
      "INFO    : Installed bundle fastga.models.loops.wing_area_component.update_wing_area (ID 250 )\n",
      "INFO    : Installed bundle fastga.models.aerodynamics.components.compute_cm_pitch_rate (ID 82 )\n",
      "INFO    : Installed bundle fastga.models.weight.mass_breakdown.c_systems.constants (ID 436 )\n",
      "INFO    : Installed bundle fastga.models.weight.mass_breakdown.b_propulsion.sum (ID 429 )\n",
      "INFO    : Installed bundle fastga.models.aerodynamics.components.figure_digitization (ID 99 )\n",
      "INFO    : Installed bundle fastga.models.weight.mass_breakdown.a_airframe.__init__ (ID 423 )\n",
      "INFO    : Installed bundle fastga.models.aerodynamics.components.compute_cn_aileron (ID 83 )\n",
      "INFO    : Installed bundle fastga.models.geometry.profiles.profile (ID 220 )\n",
      "INFO    : Installed bundle fastga.models.weight.mass_breakdown.b_propulsion.b1_2_oil_weight (ID 424 )\n",
      "INFO    : Installed bundle fastga.models.aerodynamics.components.compute_cn_beta (ID 84 )\n",
      "INFO    : Installed bundle fastga.models.aerodynamics.load_factor (ID 154 )\n",
      "INFO    : Installed bundle fastga.models.geometry.profiles.__init__ (ID 221 )\n",
      "INFO    : Installed bundle fastga.models.weight.mass_breakdown.b_propulsion.__init__ (ID 430 )\n",
      "INFO    : Installed bundle fastga.models.geometry.unitary_tests.__init__ (ID 223 )\n",
      "INFO    : Installed bundle fastga.models.aerodynamics.components.compute_cn_roll_rate (ID 85 )\n",
      "INFO    : Installed bundle fastga.models.aerodynamics.components.vt.compute_cl_alpha_vt (ID 114 )\n",
      "INFO    : Installed bundle fastga.models.propulsion.fuel_propulsion.basicTurbo_prop.turboprop_components.air_coefficient (ID 317 )\n",
      "INFO    : Installed bundle fastga.models.weight.cg.cg_components.global_cg (ID 378 )\n",
      "INFO    : Installed bundle fastga.models.aerodynamics.components.fuselage.compute_cm_alpha_fus (ID 100 )\n",
      "INFO    : Installed bundle fastga.models.aerodynamics.components.vt.compute_cl_roll_rate_vt (ID 116 )\n",
      "INFO    : Installed bundle fastga.models.aerodynamics.__init__ (ID 157 )\n",
      "INFO    : Installed bundle fastga.models.propulsion.fuel_propulsion.basicTurbo_prop.resources.__init__ (ID 316 )\n",
      "INFO    : Installed bundle fastga.models.weight.mass_breakdown.constants (ID 431 )\n",
      "INFO    : Installed bundle fastga.models.aerodynamics.components.compute_cn_rudder (ID 86 )\n",
      "INFO    : Installed bundle fastga.models.aerodynamics.components.fuselage.compute_cn_beta_fuselage (ID 101 )\n",
      "INFO    : Installed bundle fastga.models.aerodynamics.components.vt.compute_cl_beta_vt (ID 115 )\n",
      "INFO    : Installed bundle fastga.models.propulsion.fuel_propulsion.basicTurbo_prop.resources.read_resources (ID 315 )\n",
      "INFO    : Installed bundle fastga.models.aerodynamics.components.fuselage.compute_cy_beta_fuselage (ID 102 )\n",
      "INFO    : Installed bundle fastga.models.propulsion.fuel_propulsion.basicTurbo_prop.turboprop_components.alpha (ID 318 )\n",
      "INFO    : Installed bundle fastga.models.aerodynamics.components.vt.compute_cl_yaw_rate_vt (ID 117 )\n",
      "INFO    : Installed bundle fastga.models.propulsion.fuel_propulsion.basicTurbo_prop.turboprop_components.area_combustion_chamber (ID 319 )\n",
      "INFO    : Installed bundle fastga.models.weight.mass_breakdown.c_systems.sum (ID 437 )\n",
      "INFO    : Installed bundle fastga.models.aerodynamics.components.vt.compute_cn_roll_rate_vt (ID 119 )\n",
      "INFO    : Installed bundle fastga.models.propulsion.fuel_propulsion.basicTurbo_prop.turboprop_components.area_exhaust (ID 320 )\n",
      "INFO    : Installed bundle fastga.models.aerodynamics.components.fuselage.__init__ (ID 103 )\n",
      "INFO    : Installed bundle fastga.models.propulsion.fuel_propulsion.basicTurbo_prop.turboprop_components.area_inter_turbine (ID 321 )\n",
      "INFO    : Installed bundle fastga.models.weight.mass_breakdown.c_systems.__init__ (ID 438 )\n",
      "INFO    : Installed bundle fastga.models.weight.cg.cg_components.loadcase (ID 379 )\n",
      "INFO    : Installed bundle fastga.models.aerodynamics.components.vt.compute_cn_beta_vt (ID 118 )\n",
      "INFO    : Installed bundle fastga.models.propulsion.fuel_propulsion.basicTurbo_prop.turboprop_components.balance_power (ID 322 )\n",
      "INFO    : Installed bundle fastga.models.propulsion.fuel_propulsion.basicTurbo_prop.turboprop_components.exhaust_equilibrium (ID 323 )\n",
      "INFO    : Installed bundle fastga.models.aerodynamics.components.high_lift_aero (ID 104 )\n",
      "INFO    : Installed bundle fastga.models.aerodynamics.components.vt.compute_cn_yaw_rate_vt (ID 120 )\n",
      "INFO    : Installed bundle fastga.models.propulsion.fuel_propulsion.basicTurbo_prop.turboprop_components.exhaust_thrust (ID 324 )\n",
      "INFO    : Installed bundle fastga.models.weight.cg.cg_components.c_systems.c1_power_systems_cg (ID 371 )\n",
      "INFO    : Installed bundle fastga.models.aerodynamics.components.compute_cn_yaw_rate (ID 87 )\n",
      "INFO    : Installed bundle fastga.models.aerodynamics.components.ht.compute_cl_pitch_rate_ht (ID 107 )\n",
      "INFO    : Installed bundle fastga.models.geometry.unitary_tests.dummy_engines (ID 222 )\n",
      "INFO    : Installed bundle fastga.models.propulsion.fuel_propulsion.basicTurbo_prop.turboprop_components.mass_flow (ID 325 )\n",
      "INFO    : Installed bundle fastga.models.weight.cg.cg_components.c_systems.c2_life_support_systems_cg (ID 372 )\n",
      "INFO    : Installed bundle fastga.models.weight.mass_breakdown.d_furniture.d2_passenger_seats_weight (ID 440 )\n",
      "INFO    : Installed bundle fastga.models.aerodynamics.components.hinge_moments_elevator (ID 105 )\n",
      "INFO    : Installed bundle fastga.models.geometry.__init__ (ID 224 )\n",
      "INFO    : Installed bundle fastga.models.propulsion.fuel_propulsion.basicTurbo_prop.turboprop_components.opr (ID 326 )\n",
      "INFO    : Installed bundle fastga.models.weight.cg.cg_components.c_systems.c3_navigation_systems_cg (ID 373 )\n",
      "INFO    : Installed bundle fastga.models.aerodynamics.unitary_tests.dummy_engines (ID 155 )\n",
      "INFO    : Installed bundle fastga.models.aerodynamics.components.vt.compute_cy_beta_vt (ID 121 )\n",
      "INFO    : Installed bundle fastga.models.aerodynamics.components.compute_cy_beta (ID 88 )\n",
      "INFO    : Installed bundle fastga.models.propulsion.fuel_propulsion.basicTurbo_prop.turboprop_components.pressurization_air_flow (ID 327 )\n",
      "INFO    : Installed bundle fastga.models.geometry.geom_components.ht.components.compute_ht_chords (ID 169 )\n",
      "INFO    : Installed bundle fastga.models.weight.mass_breakdown.d_furniture.constants (ID 439 )\n",
      "INFO    : Installed bundle fastga.models.weight.cg.cg_components.c_systems.c4_recording_systems_cg (ID 374 )\n",
      "INFO    : Installed bundle fastga.models.propulsion.fuel_propulsion.basicTurbo_prop.turboprop_components.propeller_thrust (ID 328 )\n",
      "INFO    : Installed bundle fastga.models.propulsion.fuel_propulsion.basicTurbo_prop.turboprop_components.shaft_power (ID 329 )\n",
      "INFO    : Installed bundle fastga.models.propulsion.fuel_propulsion.basicTurbo_prop.turboprop_components.station_0 (ID 330 )\n",
      "INFO    : Installed bundle fastga.models.weight.mass_breakdown.d_furniture.sum (ID 441 )\n",
      "INFO    : Installed bundle fastga.models.propulsion.fuel_propulsion.basicTurbo_prop.turboprop_components.station_02 (ID 331 )\n",
      "INFO    : Installed bundle fastga.models.propulsion.fuel_propulsion.basicTurbo_prop.turboprop_components.station_225 (ID 332 )\n",
      "INFO    : Installed bundle fastga.models.weight.mass_breakdown.d_furniture.__init__ (ID 442 )\n",
      "INFO    : Installed bundle fastga.models.propulsion.fuel_propulsion.basicTurbo_prop.turboprop_components.station_253 (ID 333 )\n",
      "INFO    : Installed bundle fastga.models.weight.mass_breakdown.c_systems.c2_life_support_systems_weight (ID 433 )\n",
      "INFO    : Installed bundle fastga.models.propulsion.fuel_propulsion.basicTurbo_prop.turboprop_components.station_341 (ID 334 )\n",
      "INFO    : Installed bundle fastga.models.propulsion.fuel_propulsion.basicTurbo_prop.turboprop_components.station_4145 (ID 335 )\n",
      "INFO    : Installed bundle fastga.models.propulsion.fuel_propulsion.basicTurbo_prop.turboprop_components.station_441 (ID 336 )\n",
      "INFO    : Installed bundle fastga.models.propulsion.fuel_propulsion.basicTurbo_prop.turboprop_components.station_58 (ID 337 )\n",
      "INFO    : Installed bundle fastga.models.propulsion.fuel_propulsion.basicTurbo_prop.turboprop_components.station_8 (ID 338 )\n",
      "INFO    : Installed bundle fastga.models.aerodynamics.unitary_tests.__init__ (ID 156 )\n",
      "INFO    : Installed bundle fastga.models.propulsion.fuel_propulsion.basicTurbo_prop.turboprop_components.thermodynamic_equilibrium (ID 339 )\n",
      "INFO    : Installed bundle fastga.models.propulsion.fuel_propulsion.basicTurbo_prop.turboprop_components.thermodynamic_equilibrium_design (ID 340 )\n",
      "INFO    : Installed bundle fastga.models.propulsion.fuel_propulsion.basicTurbo_prop.turboprop_components.turboshaft_geometry_computation (ID 341 )\n",
      "INFO    : Installed bundle fastga.models.geometry.constants (ID 158 )\n",
      "INFO    : Installed bundle fastga.models.propulsion.fuel_propulsion.basicTurbo_prop.turboprop_components.turboshaft_off_design_fuel (ID 342 )\n",
      "INFO    : Installed bundle fastga.models.propulsion.fuel_propulsion.basicTurbo_prop.turboprop_components.turboshaft_off_design_max_power (ID 343 )\n",
      "INFO    : Installed bundle fastga.models.geometry.geometry (ID 159 )\n",
      "INFO    : Installed bundle fastga.models.propulsion.fuel_propulsion.basicTurbo_prop.turboprop_components.__init__ (ID 344 )\n",
      "INFO    : Installed bundle fastga.models.weight.mass_breakdown.payload (ID 444 )\n",
      "INFO    : Installed bundle fastga.models.geometry.geom_components.ht.compute_horizontal_tail (ID 177 )\n",
      "INFO    : Installed bundle fastga.models.propulsion.fuel_propulsion.basicTurbo_prop.unitary_tests.test_basicTP_engine (ID 345 )\n",
      "INFO    : Installed bundle fastga.models.weight.mass_breakdown.mass_breakdown (ID 443 )\n",
      "INFO    : Installed bundle fastga.models.propulsion.fuel_propulsion.basicTurbo_prop.unitary_tests.__init__ (ID 346 )\n",
      "INFO    : Installed bundle fastga.models.propulsion.fuel_propulsion.basicTurbo_prop.__init__ (ID 347 )\n",
      "INFO    : Installed bundle fastga.models.geometry.geom_components.fuselage.compute_fuselage (ID 166 )\n",
      "INFO    : Installed bundle fastga.models.geometry.geom_components.compute_total_area (ID 160 )\n",
      "INFO    : Installed bundle fastga.models.geometry.geom_components.fuselage.components.compute_fuselage_depth (ID 161 )\n",
      "INFO    : Installed bundle fastga.models.propulsion.fuel_propulsion.basicTurbo_prop_map.basicTP_engine_constructor (ID 348 )\n",
      "INFO    : Installed bundle fastga.models.geometry.geom_components.fuselage.components.compute_fuselage_dimensions (ID 162 )\n",
      "INFO    : Installed bundle fastga.models.weight.mass_breakdown.unitary_tests.dummy_engines (ID 445 )\n",
      "INFO    : Installed bundle fastga.models.geometry.geom_components.fuselage.components.compute_fuselage_volume (ID 163 )\n",
      "INFO    : Installed bundle fastga.models.geometry.geom_components.fuselage.components.compute_fuselage_wet_area (ID 164 )\n",
      "INFO    : Installed bundle fastga.models.geometry.geom_components.fuselage.components.__init__ (ID 165 )\n",
      "INFO    : Installed bundle fastga.models.geometry.geom_components.fuselage.constants (ID 167 )\n",
      "INFO    : Installed bundle fastga.models.weight.mass_breakdown.unitary_tests.__init__ (ID 446 )\n",
      "INFO    : Installed bundle fastga.models.aerodynamics.components.ht.compute_cl_beta_ht (ID 106 )\n",
      "INFO    : Installed bundle fastga.models.geometry.geom_components.fuselage.__init__ (ID 168 )\n",
      "INFO    : Installed bundle fastga.models.aerodynamics.components.ht.compute_cl_roll_rate_ht (ID 108 )\n",
      "INFO    : Installed bundle fastga.models.aerodynamics.components.ht.compute_cm_pitch_rate_ht (ID 109 )\n",
      "WARNING : Failed to import module fastga.models.propulsion.fuel_propulsion.basicTurbo_prop.unitary_tests\n",
      "WARNING : Failed to import module fastga.models.propulsion.fuel_propulsion.basicIC_engine.unitary_tests\n",
      "WARNING : Failed to import module fastga.models.weight.cg.unitary_tests\n",
      "WARNING : Failed to import module fastga.models.performances.unitary_tests\n",
      "WARNING : Failed to import module fastga.models.aerodynamics.unitary_tests\n",
      "WARNING : Failed to import module fastga.models.handling_qualities.unitary_tests\n",
      "WARNING : Failed to import module fastga.models.weight.mass_breakdown.unitary_tests\n",
      "WARNING : Failed to import module fastga.models.load_analysis.unitary_tests\n",
      "WARNING : Failed to import module fastga.models.loops.unitary_tests\n",
      "WARNING : Failed to import module fastga.models.propulsion.fuel_propulsion.basicTurbo_prop_map.unitary_tests\n",
      "WARNING : Failed to import module fastga.models.geometry.unitary_tests\n",
      "INFO    : Loaded variable descriptions in fastga.models\n",
      "INFO    : Sample configuration written in \"H:\\Documents\\FAST-GA-fork\\fast-ga-intern\\FAST-OAD_notebooks\\fast-oad-cs23\\tutorial\\workdir\\oad_process.yml\".\n"
     ]
    },
    {
     "data": {
      "text/plain": [
       "'H:\\\\Documents\\\\FAST-GA-fork\\\\fast-ga-intern\\\\FAST-OAD_notebooks\\\\fast-oad-cs23\\\\tutorial\\\\workdir\\\\oad_process.yml'"
      ]
     },
     "execution_count": 3,
     "metadata": {},
     "output_type": "execute_result"
    }
   ],
   "source": [
    "api_cs25.generate_configuration_file(\n",
    "    CONFIGURATION_FILE,\n",
    "    overwrite=True,\n",
    "    distribution_name=\"fast-oad-cs23\",\n",
    "    sample_file_name=\"fastga.yml\",\n",
    ")"
   ]
  },
  {
   "cell_type": "markdown",
   "metadata": {},
   "source": [
    "You can now checkout the generated [configuration file](./workdir/oad_process.yml). In this configuration file, we have specified an input file name 'problem_inputs.xml'. We can ask FAST-OAD to generate the inputs of the default model with the CeRAS parameters as default values:"
   ]
  },
  {
   "cell_type": "code",
   "execution_count": 4,
   "metadata": {},
   "outputs": [
    {
     "name": "stderr",
     "output_type": "stream",
     "text": [
      "INFO    : Problem inputs written in H:\\Documents\\FAST-GA-fork\\fast-ga-intern\\FAST-OAD_notebooks\\fast-oad-cs23\\tutorial\\workdir\\problem_inputs.xml\n"
     ]
    },
    {
     "data": {
      "text/plain": [
       "'H:\\\\Documents\\\\FAST-GA-fork\\\\fast-ga-intern\\\\FAST-OAD_notebooks\\\\fast-oad-cs23\\\\tutorial\\\\workdir\\\\problem_inputs.xml'"
      ]
     },
     "execution_count": 4,
     "metadata": {},
     "output_type": "execute_result"
    }
   ],
   "source": [
    "api_cs25.generate_inputs(CONFIGURATION_FILE, SOURCE_FILE, overwrite=True)"
   ]
  },
  {
   "cell_type": "markdown",
   "metadata": {},
   "source": [
    "You can now checkout the generated [input file](./workdir/problem_inputs.xml). As shown previously in the user file architecture, the values in this file can be modified by the user and will be considered by FAST-OAD when executing a computational process."
   ]
  },
  {
   "cell_type": "markdown",
   "metadata": {},
   "source": [
    "A useful feature that FAST-OAD provides is to list the outputs of the model defined in the configuration file:"
   ]
  },
  {
   "cell_type": "code",
   "execution_count": null,
   "metadata": {},
   "outputs": [],
   "source": [
    "api_cs25.list_variables(CONFIGURATION_FILE)"
   ]
  },
  {
   "cell_type": "markdown",
   "metadata": {},
   "source": [
    "Another useful feature is to list the modules of the model defined in the configuration file:"
   ]
  },
  {
   "cell_type": "code",
   "execution_count": null,
   "metadata": {},
   "outputs": [],
   "source": [
    "api_cs25.list_modules(CONFIGURATION_FILE)"
   ]
  },
  {
   "cell_type": "markdown",
   "metadata": {},
   "source": [
    "Another useful feature is the [N2 diagram](http://openmdao.org/twodocs/versions/latest/basic_guide/make_n2.html) visualization available in OpenMDAO to see the structure of the model:"
   ]
  },
  {
   "cell_type": "code",
   "execution_count": null,
   "metadata": {},
   "outputs": [],
   "source": [
    "N2_FILE = pth.join(WORK_FOLDER_PATH, \"n2.html\")\n",
    "api_cs25.write_n2(CONFIGURATION_FILE, N2_FILE, overwrite=True)\n",
    "from IPython.display import IFrame\n",
    "\n",
    "IFrame(src=N2_FILE, width=\"100%\", height=\"500px\")"
   ]
  },
  {
   "cell_type": "markdown",
   "metadata": {},
   "source": [
    "Alternatively, you can create a [WhatsOpt](https://github.com/OneraHub/WhatsOpt-Doc#whatsopt-documentation) account to generate the XDSM of the problem. If your account is created, you may uncomment next lines and run them (this should take ~ 1 min):"
   ]
  },
  {
   "cell_type": "code",
   "execution_count": null,
   "metadata": {},
   "outputs": [],
   "source": [
    "XDSM_FILE = pth.join(WORK_FOLDER_PATH, \"xdsm.html\")\n",
    "api_cs25.write_xdsm(CONFIGURATION_FILE, XDSM_FILE, overwrite=True)\n",
    "from IPython.display import IFrame\n",
    "\n",
    "IFrame(src=XDSM_FILE, width=\"100%\", height=\"500px\")"
   ]
  },
  {
   "cell_type": "markdown",
   "metadata": {},
   "source": [
    "## 2. Running your first MDA"
   ]
  },
  {
   "cell_type": "markdown",
   "metadata": {},
   "source": [
    "### Beechcraft\n",
    "Here we run an MDA, that is solving the multidisciplinary couplings using the different nested solvers in the model, without running the optimization problem even if it is defined in the configuration file."
   ]
  },
  {
   "cell_type": "code",
   "execution_count": 5,
   "metadata": {},
   "outputs": [
    {
     "name": "stdout",
     "output_type": "stream",
     "text": [
      "\n",
      "===============\n",
      "aircraft_sizing\n",
      "===============\n"
     ]
    },
    {
     "name": "stderr",
     "output_type": "stream",
     "text": [
      "WARNING : Chord ratio outside of the range in Roskam's book, value clipped\n",
      "INFO    : Entering mission computation\n",
      "INFO    : Failed to remove H:\\Documents\\FAST-GA-fork\\fast-ga-intern\\FAST-OAD_notebooks\\fast-oad-cs23\\tutorial\\workdir\\./workdir/mda_mission_results.csv file!\n",
      "INFO    : Looping on wing area with new value equal to 14.115708\n"
     ]
    },
    {
     "name": "stdout",
     "output_type": "stream",
     "text": [
      "NL: NLBGS 1 ; 12528315.4 1\n"
     ]
    },
    {
     "name": "stderr",
     "output_type": "stream",
     "text": [
      "WARNING : Area ratio value outside of the range in Roskam's book, value clipped\n",
      "WARNING : Area ratio value outside of the range in Roskam's book, value clipped\n",
      "INFO    : Entering mission computation\n",
      "INFO    : Looping on wing area with new value equal to 14.419667\n"
     ]
    },
    {
     "name": "stdout",
     "output_type": "stream",
     "text": [
      "NL: NLBGS 2 ; 2200362.12 0.175631124\n"
     ]
    },
    {
     "name": "stderr",
     "output_type": "stream",
     "text": [
      "WARNING : Area ratio value outside of the range in Roskam's book, value clipped\n",
      "WARNING : Area ratio value outside of the range in Roskam's book, value clipped\n",
      "INFO    : Entering mission computation\n",
      "INFO    : Looping on wing area with new value equal to 14.586276\n"
     ]
    },
    {
     "name": "stdout",
     "output_type": "stream",
     "text": [
      "NL: NLBGS 3 ; 1132195.35 0.090370917\n"
     ]
    },
    {
     "name": "stderr",
     "output_type": "stream",
     "text": [
      "WARNING : Area ratio value outside of the range in Roskam's book, value clipped\n",
      "WARNING : Area ratio value outside of the range in Roskam's book, value clipped\n",
      "INFO    : Entering mission computation\n",
      "INFO    : Looping on wing area with new value equal to 14.614087\n"
     ]
    },
    {
     "name": "stdout",
     "output_type": "stream",
     "text": [
      "NL: NLBGS 4 ; 134021.132 0.0106974583\n"
     ]
    },
    {
     "name": "stderr",
     "output_type": "stream",
     "text": [
      "WARNING : Area ratio value outside of the range in Roskam's book, value clipped\n",
      "WARNING : Area ratio value outside of the range in Roskam's book, value clipped\n",
      "INFO    : Entering mission computation\n",
      "INFO    : Looping on wing area with new value equal to 14.615395\n"
     ]
    },
    {
     "name": "stdout",
     "output_type": "stream",
     "text": [
      "NL: NLBGS 5 ; 23412.9447 0.00186880231\n"
     ]
    },
    {
     "name": "stderr",
     "output_type": "stream",
     "text": [
      "WARNING : Area ratio value outside of the range in Roskam's book, value clipped\n",
      "WARNING : Area ratio value outside of the range in Roskam's book, value clipped\n",
      "INFO    : Entering mission computation\n",
      "INFO    : Looping on wing area with new value equal to 14.609739\n"
     ]
    },
    {
     "name": "stdout",
     "output_type": "stream",
     "text": [
      "NL: NLBGS 6 ; 31617.3951 0.00252367489\n"
     ]
    },
    {
     "name": "stderr",
     "output_type": "stream",
     "text": [
      "WARNING : Area ratio value outside of the range in Roskam's book, value clipped\n",
      "WARNING : Area ratio value outside of the range in Roskam's book, value clipped\n",
      "INFO    : Entering mission computation\n",
      "INFO    : Looping on wing area with new value equal to 14.605450\n"
     ]
    },
    {
     "name": "stdout",
     "output_type": "stream",
     "text": [
      "NL: NLBGS 7 ; 21642.0581 0.00172745157\n"
     ]
    },
    {
     "name": "stderr",
     "output_type": "stream",
     "text": [
      "WARNING : Area ratio value outside of the range in Roskam's book, value clipped\n",
      "WARNING : Area ratio value outside of the range in Roskam's book, value clipped\n",
      "INFO    : Entering mission computation\n",
      "INFO    : Looping on wing area with new value equal to 14.603118\n"
     ]
    },
    {
     "name": "stdout",
     "output_type": "stream",
     "text": [
      "NL: NLBGS 8 ; 11357.6446 0.000906558006\n",
      "NL: NLBGS Converged\n"
     ]
    },
    {
     "name": "stderr",
     "output_type": "stream",
     "text": [
      "INFO    : Computation finished after 33.57 seconds\n",
      "INFO    : Problem outputs written in H:\\Documents\\FAST-GA-fork\\fast-ga-intern\\FAST-OAD_notebooks\\fast-oad-cs23\\tutorial\\workdir\\problem_outputs.xml\n"
     ]
    }
   ],
   "source": [
    "eval_problem = api_cs25.evaluate_problem(CONFIGURATION_FILE, overwrite=True)"
   ]
  },
  {
   "cell_type": "markdown",
   "metadata": {},
   "source": [
    "Let's save these results. We will use them in the next workbook, that shows some post-processing utilities."
   ]
  },
  {
   "cell_type": "code",
   "execution_count": null,
   "metadata": {},
   "outputs": [],
   "source": [
    "OUTPUT_FILE = pth.join(WORK_FOLDER_PATH, \"problem_outputs.xml\")\n",
    "Beechcraft_OUTPUT_FILE = pth.join(WORK_FOLDER_PATH, \"problem_outputs_Beechcraft_800nm_mda.xml\")\n",
    "shutil.copy(OUTPUT_FILE, Beechcraft_OUTPUT_FILE)"
   ]
  },
  {
   "cell_type": "markdown",
   "metadata": {},
   "source": [
    "The `variable-viewer` provides a way to inspect the content of the XML file. The dropdown lists above the table allow to filter the displayed variable."
   ]
  },
  {
   "cell_type": "code",
   "execution_count": null,
   "metadata": {},
   "outputs": [],
   "source": [
    "api_cs25.variable_viewer(OUTPUT_FILE)"
   ]
  },
  {
   "cell_type": "markdown",
   "metadata": {},
   "source": [
    "In particular, you may inspect the `data:handling_qualities:static_margin` variable.\n",
    "You will see that its value is equal to the value we set as the target meaning the MDA process converged correctly."
   ]
  },
  {
   "cell_type": "markdown",
   "metadata": {
    "jp-MarkdownHeadingCollapsed": true,
    "tags": []
   },
   "source": [
    "### Beechcraft for 1000 nm range\n",
    "Here we run an MDA but we change one of the Top Level Aircraft Requirement (TLAR): the range. We choose a 1000 nm range instead of 800 nm for the Beechcraft. For that we use the `VariableViewer` tool on the input file to change the range (do not forget to save!). Just like this:\n",
    "![variable_viewer](./img/variable_viewer_change_range.gif)"
   ]
  },
  {
   "cell_type": "code",
   "execution_count": null,
   "metadata": {
    "scrolled": true
   },
   "outputs": [],
   "source": [
    "INPUT_FILE = pth.join(WORK_FOLDER_PATH, \"problem_inputs.xml\")\n",
    "api_cs25.variable_viewer(INPUT_FILE)"
   ]
  },
  {
   "cell_type": "markdown",
   "metadata": {},
   "source": [
    "Now that the range has been changed, we run again the MDA."
   ]
  },
  {
   "cell_type": "code",
   "execution_count": null,
   "metadata": {},
   "outputs": [],
   "source": [
    "eval_problem = api_cs25.evaluate_problem(CONFIGURATION_FILE, overwrite=True)"
   ]
  },
  {
   "cell_type": "markdown",
   "metadata": {},
   "source": [
    "Let's save again these new results, for post-processing them in next notebook."
   ]
  },
  {
   "cell_type": "code",
   "execution_count": null,
   "metadata": {},
   "outputs": [],
   "source": [
    "OUTPUT_FILE = pth.join(WORK_FOLDER_PATH, \"problem_outputs.xml\")\n",
    "Beechcraft_1000nm_OUTPUT_FILE = pth.join(\n",
    "    WORK_FOLDER_PATH, \"problem_outputs_Beechcraft_1000nm_mda.xml\"\n",
    ")\n",
    "shutil.copy(OUTPUT_FILE, Beechcraft_1000nm_OUTPUT_FILE)"
   ]
  },
  {
   "cell_type": "markdown",
   "metadata": {},
   "source": [
    "## 3. Running your first MDO\n",
    "\n",
    "## Beechcraft 800 nm optimization\n",
    "\n",
    "As seen earlier, the current aircraft configuration is estimated with a fixed distance between the wing aerodynamic center and the horizontal tail aerodynamic center. We will unlock this parameter using a simple optimization problem that will move horizontal tail position in order to minimize the mission consumption. \n",
    "\n",
    "The default configuration file defines this optimization problem that aims at:\n",
    "- minimizing the fuel consumption for the mission (objective),\n",
    "- with respect to the distance between the wing and the tail aerodynamic center (design variables): by extension the horizontal tail to wing distance,\n",
    "- subject to no additional constraint.\n",
    "\n",
    "However, running the MDO with the propeller performance estimation will take a very long time. Consequently, and since the propeller won't change from one MDO loop to another, we decided to use a different .yml file for the probleme definition and reuse the propeller performance map computed in the MDA's hence why the input file will be the output file of a previous MDA.\n",
    "\n",
    "*(This run should take approximately 20 minutes)*"
   ]
  },
  {
   "cell_type": "code",
   "execution_count": null,
   "metadata": {},
   "outputs": [],
   "source": [
    "CONFIGURATION_FILE_MDO = pth.join(WORK_FOLDER_PATH, \"oad_process_mdo.yml\")\n",
    "SOURCE_FILE_MDO = pth.join(WORK_FOLDER_PATH, \"problem_outputs_Beechcraft_800nm_mda.xml\")\n",
    "shutil.copy(pth.join(DATA_FOLDER_PATH, \"fastga_mdo.yml\"), CONFIGURATION_FILE_MDO)"
   ]
  },
  {
   "cell_type": "code",
   "execution_count": null,
   "metadata": {},
   "outputs": [],
   "source": [
    "# Set back the inputs from the reference Beechcraft 800 nm\n",
    "api_cs25.generate_inputs(CONFIGURATION_FILE_MDO, SOURCE_FILE_MDO, overwrite=True)"
   ]
  },
  {
   "cell_type": "markdown",
   "metadata": {},
   "source": [
    "To visualize and edit the optimization problem definition (present in the configuration file .toml) you can use the `optimization_viewer` tool. If design variables or constraints have active bounds they are yellow whereas they are red if they are violated. Modifiying the `Initial Value` will modify the input file defined in the configuration file .toml whereas `Value` corresponds to the value found in the output file defined in the configuration file (here it is the 800 nm MDA run)."
   ]
  },
  {
   "cell_type": "code",
   "execution_count": null,
   "metadata": {},
   "outputs": [],
   "source": [
    "api_cs25.optimization_viewer(CONFIGURATION_FILE_MDO)"
   ]
  },
  {
   "cell_type": "code",
   "execution_count": null,
   "metadata": {},
   "outputs": [],
   "source": [
    "optim_problem = api_cs25.optimize_problem(CONFIGURATION_FILE_MDO, overwrite=True)"
   ]
  },
  {
   "cell_type": "markdown",
   "metadata": {},
   "source": [
    "Let's save these results:"
   ]
  },
  {
   "cell_type": "code",
   "execution_count": null,
   "metadata": {},
   "outputs": [],
   "source": [
    "OUTPUT_FILE = pth.join(WORK_FOLDER_PATH, \"problem_outputs.xml\")\n",
    "CeRAS_OPT_OUTPUT_FILE = pth.join(WORK_FOLDER_PATH, \"problem_outputs_Beechcraft_800nm_mdo.xml\")\n",
    "shutil.copy(OUTPUT_FILE, CeRAS_OPT_OUTPUT_FILE)"
   ]
  },
  {
   "cell_type": "markdown",
   "metadata": {},
   "source": [
    "The `optimizer_viewer` offers a convenient summary of the optimization result:"
   ]
  },
  {
   "cell_type": "code",
   "execution_count": null,
   "metadata": {},
   "outputs": [],
   "source": [
    "api_cs25.optimization_viewer(CONFIGURATION_FILE_MDO)"
   ]
  },
  {
   "cell_type": "markdown",
   "metadata": {},
   "source": [
    "You can use the `VariableViewer` tool to see the optimization results for all variables of the system by loading the .xml output file:"
   ]
  },
  {
   "cell_type": "code",
   "execution_count": null,
   "metadata": {},
   "outputs": [],
   "source": [
    "RESULT_FILE = pth.join(WORK_FOLDER_PATH, \"problem_outputs.xml\")\n",
    "api_cs25.variable_viewer(RESULT_FILE)"
   ]
  }
 ],
 "metadata": {
  "kernelspec": {
   "display_name": "Python 3 (ipykernel)",
   "language": "python",
   "name": "python3"
  },
  "language_info": {
   "codemirror_mode": {
    "name": "ipython",
    "version": 3
   },
   "file_extension": ".py",
   "mimetype": "text/x-python",
   "name": "python",
   "nbconvert_exporter": "python",
   "pygments_lexer": "ipython3",
   "version": "3.8.19"
  }
 },
 "nbformat": 4,
 "nbformat_minor": 4
}
